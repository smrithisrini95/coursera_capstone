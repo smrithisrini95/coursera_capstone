{
    "nbformat_minor": 1, 
    "cells": [
        {
            "execution_count": 1, 
            "cell_type": "code", 
            "metadata": {}, 
            "outputs": [], 
            "source": "# The code was removed by Watson Studio for sharing."
        }, 
        {
            "source": "# Capstone Project - The Battle of Neighborhoods - Week 4 Part 1", 
            "cell_type": "markdown", 
            "metadata": {
                "collapsed": true
            }
        }, 
        {
            "source": "# Table of contents\n\nIntroduction: Business Problem\n\nData\n\nMethodology\n\nAnalysis\n\nResults and Discussion\n\nConclusion\n", 
            "cell_type": "markdown", 
            "metadata": {}
        }, 
        {
            "source": "# Introduction: Business Problem \n    \nThis project aims to select the safest borough in London based on the total crimes, explore the neighborhoods of that borough to find the 10 most common venues in each neighborhood and finally cluster the neighborhoods using k-mean clustering.\nThis report will be targeted to people who are looking to relocate to London. Inorder to finalise a neighborhood to hunt for an apartment, safety is considered as a top concern when moving to a new place. If you don\u2019t feel safe in your own home, you\u2019re not going to be able to enjoy living there. The crime statistics will provide an insight into this issue.\nWe will focus on the safest borough and explore its neighborhoods and the 10 most common venues in each neighborhood so that the best neighborhood suited to an individual's needs can be selected.", 
            "cell_type": "markdown", 
            "metadata": {}
        }, 
        {
            "source": "# Data \n\nBased on definition of our problem, factors that will influence our decision are:\n\n-The total number of crimes commited in each of the borough during the last year.\n\n-The most common venues in each of the neighborhood in the safest borough selected.\n\nFollowing data sources will be needed to extract/generate the required information:\n\n\nPart 1: Preprocessing a real world data set from Kaggle showing the London Crimes from 2008 to 2016: A dataset consisting of the crime statistics of each borough in London obtained from Kaggle\n\nPart 2: Scraping additional information of the different Boroughs in London from a Wikipedia page.: More information regarding the boroughs of London is scraped using the Beautifulsoup library\n\nPart 3: Creating a new dataset of the Neighborhoods of the safest borough in London and generating their co-ordinates.: Co-ordinate of neighborhood will be obtained using Google Maps API geocoding", 
            "cell_type": "markdown", 
            "metadata": {}
        }, 
        {
            "source": "# Part 1: Preprocessing a real world data set from Kaggle showing the London Crimes from 2008 to 2016\n", 
            "cell_type": "markdown", 
            "metadata": {}
        }, 
        {
            "source": "About this file\n\n-lsoa_code: code for Lower Super Output Area in Greater London.\n\n-borough: Common name for London borough.\n\n-major_category: High level categorization of crime\n\n-minor_category: Low level categorization of crime within major category.\n\n-value: monthly reported count of categorical crime in given borough\n\n-year: Year of reported counts, 2008-2016\n\n-month: Month of reported counts, 1-12\n\n\nData set URL: https://www.kaggle.com/jboysen/london-crime", 
            "cell_type": "markdown", 
            "metadata": {}
        }, 
        {
            "source": "### Importing the required Libraries", 
            "cell_type": "markdown", 
            "metadata": {}
        }, 
        {
            "execution_count": 2, 
            "cell_type": "code", 
            "metadata": {}, 
            "outputs": [
                {
                    "output_type": "stream", 
                    "name": "stdout", 
                    "text": "Folium installed\nLibraries imported.\n"
                }
            ], 
            "source": "import requests # library to handle requests\nimport pandas as pd # library for data analsysis\nimport numpy as np # library to handle data in a vectorized manner\nimport random # library for random number generation\nfrom bs4 import BeautifulSoup # library for web scrapping  \n\n#!conda install -c conda-forge geocoder --yes\nimport geocoder\n\n#!conda install -c conda-forge geopy --yes \nfrom geopy.geocoders import Nominatim # module to convert an address into latitude and longitude values\n\n# libraries for displaying images\nfrom IPython.display import Image \nfrom IPython.core.display import HTML \n    \n# tranforming json file into a pandas dataframe library\nfrom pandas.io.json import json_normalize\n\n#!conda install -c conda-forge folium=0.5.0 --yes\nimport folium # plotting library\n\nprint('Folium installed')\nprint('Libraries imported.')"
        }, 
        {
            "source": "### Define Foursquare Credentials and Version\n", 
            "cell_type": "markdown", 
            "metadata": {}
        }, 
        {
            "execution_count": 3, 
            "cell_type": "code", 
            "metadata": {}, 
            "outputs": [
                {
                    "output_type": "stream", 
                    "name": "stdout", 
                    "text": "Your credentails:\nCLIENT_ID: EG4F4RL1FDCK0XUJ2YRYDBZVKIQCYTATZD3KNBIVGXLJPKLA\nCLIENT_SECRET:5ULV3ADMR4HEIIK2OMKKGOJ0RKDWVI00CPHET0FS45B4MJYR\n"
                }
            ], 
            "source": "CLIENT_ID = 'EG4F4RL1FDCK0XUJ2YRYDBZVKIQCYTATZD3KNBIVGXLJPKLA' # your Foursquare ID\nCLIENT_SECRET = '5ULV3ADMR4HEIIK2OMKKGOJ0RKDWVI00CPHET0FS45B4MJYR' # your Foursquare Secret\n\nVERSION = '20180604'\nLIMIT = 30\n\nprint('Your credentails:')\nprint('CLIENT_ID: ' + CLIENT_ID)\nprint('CLIENT_SECRET:' + CLIENT_SECRET)"
        }, 
        {
            "source": "### Read in the dataset", 
            "cell_type": "markdown", 
            "metadata": {}
        }, 
        {
            "execution_count": 4, 
            "cell_type": "code", 
            "metadata": {}, 
            "outputs": [], 
            "source": "# Read in the data \n# Fetch the file\nmy_file = project.get_file(\"london_crime_by_lsoa.csv\")\nmy_file\n# Read the CSV data file from the object storage into a pandas DataFrame\nmy_file.seek(0)\n#import pandas as pd\ndf=pd.read_csv(my_file)\n#df = pd.read_csv(\"london_crime_by_lsoa.csv\")"
        }, 
        {
            "execution_count": 5, 
            "cell_type": "code", 
            "metadata": {}, 
            "outputs": [
                {
                    "execution_count": 5, 
                    "metadata": {}, 
                    "data": {
                        "text/html": "<div>\n<style scoped>\n    .dataframe tbody tr th:only-of-type {\n        vertical-align: middle;\n    }\n\n    .dataframe tbody tr th {\n        vertical-align: top;\n    }\n\n    .dataframe thead th {\n        text-align: right;\n    }\n</style>\n<table border=\"1\" class=\"dataframe\">\n  <thead>\n    <tr style=\"text-align: right;\">\n      <th></th>\n      <th>lsoa_code</th>\n      <th>borough</th>\n      <th>major_category</th>\n      <th>minor_category</th>\n      <th>value</th>\n      <th>year</th>\n      <th>month</th>\n    </tr>\n  </thead>\n  <tbody>\n    <tr>\n      <th>0</th>\n      <td>E01001116</td>\n      <td>Croydon</td>\n      <td>Burglary</td>\n      <td>Burglary in Other Buildings</td>\n      <td>0</td>\n      <td>2016</td>\n      <td>11</td>\n    </tr>\n    <tr>\n      <th>1</th>\n      <td>E01001646</td>\n      <td>Greenwich</td>\n      <td>Violence Against the Person</td>\n      <td>Other violence</td>\n      <td>0</td>\n      <td>2016</td>\n      <td>11</td>\n    </tr>\n    <tr>\n      <th>2</th>\n      <td>E01000677</td>\n      <td>Bromley</td>\n      <td>Violence Against the Person</td>\n      <td>Other violence</td>\n      <td>0</td>\n      <td>2015</td>\n      <td>5</td>\n    </tr>\n    <tr>\n      <th>3</th>\n      <td>E01003774</td>\n      <td>Redbridge</td>\n      <td>Burglary</td>\n      <td>Burglary in Other Buildings</td>\n      <td>0</td>\n      <td>2016</td>\n      <td>3</td>\n    </tr>\n    <tr>\n      <th>4</th>\n      <td>E01004563</td>\n      <td>Wandsworth</td>\n      <td>Robbery</td>\n      <td>Personal Property</td>\n      <td>0</td>\n      <td>2008</td>\n      <td>6</td>\n    </tr>\n  </tbody>\n</table>\n</div>", 
                        "text/plain": "   lsoa_code     borough               major_category  \\\n0  E01001116     Croydon                     Burglary   \n1  E01001646   Greenwich  Violence Against the Person   \n2  E01000677     Bromley  Violence Against the Person   \n3  E01003774   Redbridge                     Burglary   \n4  E01004563  Wandsworth                      Robbery   \n\n                minor_category  value  year  month  \n0  Burglary in Other Buildings      0  2016     11  \n1               Other violence      0  2016     11  \n2               Other violence      0  2015      5  \n3  Burglary in Other Buildings      0  2016      3  \n4            Personal Property      0  2008      6  "
                    }, 
                    "output_type": "execute_result"
                }
            ], 
            "source": "# View the top rows of the dataset\ndf.head()"
        }, 
        {
            "source": "### Accessing the most recent crime rates (2016)", 
            "cell_type": "markdown", 
            "metadata": {}
        }, 
        {
            "execution_count": 6, 
            "cell_type": "code", 
            "metadata": {}, 
            "outputs": [], 
            "source": "# Taking only the most recent year (2016) and dropping the rest\ndf.drop(df.index[df['year'] != 2016], inplace = True)\n\n# Removing all the entires where crime values are null  \ndf = df[df.value != 0]\n\n# Reset the index and dropping the previous index\ndf = df.reset_index(drop=True)"
        }, 
        {
            "execution_count": 7, 
            "cell_type": "code", 
            "metadata": {}, 
            "outputs": [
                {
                    "execution_count": 7, 
                    "metadata": {}, 
                    "data": {
                        "text/plain": "(392042, 7)"
                    }, 
                    "output_type": "execute_result"
                }
            ], 
            "source": "# Shape of the data frame\ndf.shape"
        }, 
        {
            "execution_count": 8, 
            "cell_type": "code", 
            "metadata": {}, 
            "outputs": [
                {
                    "execution_count": 8, 
                    "metadata": {}, 
                    "data": {
                        "text/html": "<div>\n<style scoped>\n    .dataframe tbody tr th:only-of-type {\n        vertical-align: middle;\n    }\n\n    .dataframe tbody tr th {\n        vertical-align: top;\n    }\n\n    .dataframe thead th {\n        text-align: right;\n    }\n</style>\n<table border=\"1\" class=\"dataframe\">\n  <thead>\n    <tr style=\"text-align: right;\">\n      <th></th>\n      <th>lsoa_code</th>\n      <th>borough</th>\n      <th>major_category</th>\n      <th>minor_category</th>\n      <th>value</th>\n      <th>year</th>\n      <th>month</th>\n    </tr>\n  </thead>\n  <tbody>\n    <tr>\n      <th>0</th>\n      <td>E01004177</td>\n      <td>Sutton</td>\n      <td>Theft and Handling</td>\n      <td>Theft/Taking of Pedal Cycle</td>\n      <td>1</td>\n      <td>2016</td>\n      <td>8</td>\n    </tr>\n    <tr>\n      <th>1</th>\n      <td>E01000733</td>\n      <td>Bromley</td>\n      <td>Criminal Damage</td>\n      <td>Criminal Damage To Motor Vehicle</td>\n      <td>1</td>\n      <td>2016</td>\n      <td>4</td>\n    </tr>\n    <tr>\n      <th>2</th>\n      <td>E01003989</td>\n      <td>Southwark</td>\n      <td>Theft and Handling</td>\n      <td>Theft From Shops</td>\n      <td>4</td>\n      <td>2016</td>\n      <td>8</td>\n    </tr>\n    <tr>\n      <th>3</th>\n      <td>E01002276</td>\n      <td>Havering</td>\n      <td>Burglary</td>\n      <td>Burglary in a Dwelling</td>\n      <td>1</td>\n      <td>2016</td>\n      <td>8</td>\n    </tr>\n    <tr>\n      <th>4</th>\n      <td>E01003674</td>\n      <td>Redbridge</td>\n      <td>Drugs</td>\n      <td>Possession Of Drugs</td>\n      <td>2</td>\n      <td>2016</td>\n      <td>11</td>\n    </tr>\n  </tbody>\n</table>\n</div>", 
                        "text/plain": "   lsoa_code    borough      major_category                    minor_category  \\\n0  E01004177     Sutton  Theft and Handling       Theft/Taking of Pedal Cycle   \n1  E01000733    Bromley     Criminal Damage  Criminal Damage To Motor Vehicle   \n2  E01003989  Southwark  Theft and Handling                  Theft From Shops   \n3  E01002276   Havering            Burglary            Burglary in a Dwelling   \n4  E01003674  Redbridge               Drugs               Possession Of Drugs   \n\n   value  year  month  \n0      1  2016      8  \n1      1  2016      4  \n2      4  2016      8  \n3      1  2016      8  \n4      2  2016     11  "
                    }, 
                    "output_type": "execute_result"
                }
            ], 
            "source": "# View the top of the dataset \ndf.head()"
        }, 
        {
            "source": "### Change the column names\u00b6", 
            "cell_type": "markdown", 
            "metadata": {}
        }, 
        {
            "execution_count": 9, 
            "cell_type": "code", 
            "metadata": {}, 
            "outputs": [
                {
                    "execution_count": 9, 
                    "metadata": {}, 
                    "data": {
                        "text/html": "<div>\n<style scoped>\n    .dataframe tbody tr th:only-of-type {\n        vertical-align: middle;\n    }\n\n    .dataframe tbody tr th {\n        vertical-align: top;\n    }\n\n    .dataframe thead th {\n        text-align: right;\n    }\n</style>\n<table border=\"1\" class=\"dataframe\">\n  <thead>\n    <tr style=\"text-align: right;\">\n      <th></th>\n      <th>LSOA_Code</th>\n      <th>Borough</th>\n      <th>Major_Category</th>\n      <th>Minor_Category</th>\n      <th>No_of_Crimes</th>\n      <th>Year</th>\n      <th>Month</th>\n    </tr>\n  </thead>\n  <tbody>\n    <tr>\n      <th>0</th>\n      <td>E01004177</td>\n      <td>Sutton</td>\n      <td>Theft and Handling</td>\n      <td>Theft/Taking of Pedal Cycle</td>\n      <td>1</td>\n      <td>2016</td>\n      <td>8</td>\n    </tr>\n    <tr>\n      <th>1</th>\n      <td>E01000733</td>\n      <td>Bromley</td>\n      <td>Criminal Damage</td>\n      <td>Criminal Damage To Motor Vehicle</td>\n      <td>1</td>\n      <td>2016</td>\n      <td>4</td>\n    </tr>\n    <tr>\n      <th>2</th>\n      <td>E01003989</td>\n      <td>Southwark</td>\n      <td>Theft and Handling</td>\n      <td>Theft From Shops</td>\n      <td>4</td>\n      <td>2016</td>\n      <td>8</td>\n    </tr>\n    <tr>\n      <th>3</th>\n      <td>E01002276</td>\n      <td>Havering</td>\n      <td>Burglary</td>\n      <td>Burglary in a Dwelling</td>\n      <td>1</td>\n      <td>2016</td>\n      <td>8</td>\n    </tr>\n    <tr>\n      <th>4</th>\n      <td>E01003674</td>\n      <td>Redbridge</td>\n      <td>Drugs</td>\n      <td>Possession Of Drugs</td>\n      <td>2</td>\n      <td>2016</td>\n      <td>11</td>\n    </tr>\n  </tbody>\n</table>\n</div>", 
                        "text/plain": "   LSOA_Code    Borough      Major_Category                    Minor_Category  \\\n0  E01004177     Sutton  Theft and Handling       Theft/Taking of Pedal Cycle   \n1  E01000733    Bromley     Criminal Damage  Criminal Damage To Motor Vehicle   \n2  E01003989  Southwark  Theft and Handling                  Theft From Shops   \n3  E01002276   Havering            Burglary            Burglary in a Dwelling   \n4  E01003674  Redbridge               Drugs               Possession Of Drugs   \n\n   No_of_Crimes  Year  Month  \n0             1  2016      8  \n1             1  2016      4  \n2             4  2016      8  \n3             1  2016      8  \n4             2  2016     11  "
                    }, 
                    "output_type": "execute_result"
                }
            ], 
            "source": "df.columns = ['LSOA_Code', 'Borough','Major_Category','Minor_Category','No_of_Crimes','Year','Month']\ndf.head()"
        }, 
        {
            "execution_count": 10, 
            "cell_type": "code", 
            "metadata": {}, 
            "outputs": [
                {
                    "output_type": "stream", 
                    "name": "stdout", 
                    "text": "<class 'pandas.core.frame.DataFrame'>\nRangeIndex: 392042 entries, 0 to 392041\nData columns (total 7 columns):\nLSOA_Code         392042 non-null object\nBorough           392042 non-null object\nMajor_Category    392042 non-null object\nMinor_Category    392042 non-null object\nNo_of_Crimes      392042 non-null int64\nYear              392042 non-null int64\nMonth             392042 non-null int64\ndtypes: int64(3), object(4)\nmemory usage: 20.9+ MB\n"
                }
            ], 
            "source": "# View the information of the dataset \ndf.info()"
        }, 
        {
            "execution_count": null, 
            "cell_type": "code", 
            "metadata": {}, 
            "outputs": [], 
            "source": ""
        }
    ], 
    "metadata": {
        "kernelspec": {
            "display_name": "Python 3.6", 
            "name": "python3", 
            "language": "python"
        }, 
        "language_info": {
            "mimetype": "text/x-python", 
            "nbconvert_exporter": "python", 
            "version": "3.6.8", 
            "name": "python", 
            "file_extension": ".py", 
            "pygments_lexer": "ipython3", 
            "codemirror_mode": {
                "version": 3, 
                "name": "ipython"
            }
        }
    }, 
    "nbformat": 4
}